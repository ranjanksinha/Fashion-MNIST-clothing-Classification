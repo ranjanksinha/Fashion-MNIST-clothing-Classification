{
  "nbformat": 4,
  "nbformat_minor": 0,
  "metadata": {
    "colab": {
      "name": "CNN-Image Project 1",
      "provenance": [],
      "collapsed_sections": []
    },
    "kernelspec": {
      "name": "python3",
      "display_name": "Python 3"
    }
  },
  "cells": [
    {
      "cell_type": "markdown",
      "metadata": {
        "id": "Cdad4O_g-MIS",
        "colab_type": "text"
      },
      "source": [
        "# Fashion MNIST clothing Classification\n",
        "\n",
        "0-9 intergers to class labels is listed below.\n",
        "\n",
        "0: T-shirt/top\n",
        "\n",
        "1: Trouser\n",
        "\n",
        "2: Pullover\n",
        "\n",
        "3: Dress\n",
        "\n",
        "4: Coat\n",
        "\n",
        "5: Sandal\n",
        "\n",
        "6: Shirt\n",
        "\n",
        "7: Sneaker\n",
        "\n",
        "8: Bag\n",
        "\n",
        "9: Ankle boot\n",
        "\n",
        "\n"
      ]
    },
    {
      "cell_type": "code",
      "metadata": {
        "id": "JyPfGFxh8Vot",
        "colab_type": "code",
        "outputId": "bc112f24-de5b-4e7e-a293-a3f148bf6dfd",
        "colab": {
          "base_uri": "https://localhost:8080/",
          "height": 70
        }
      },
      "source": [
        "import numpy as np\n",
        "import matplotlib.pyplot as plt\n",
        "import pandas as pd\n",
        "import seaborn as sns"
      ],
      "execution_count": 0,
      "outputs": [
        {
          "output_type": "stream",
          "text": [
            "/usr/local/lib/python3.6/dist-packages/statsmodels/tools/_testing.py:19: FutureWarning: pandas.util.testing is deprecated. Use the functions in the public API at pandas.testing instead.\n",
            "  import pandas.util.testing as tm\n"
          ],
          "name": "stderr"
        }
      ]
    },
    {
      "cell_type": "code",
      "metadata": {
        "id": "9_SzRSGq_YdV",
        "colab_type": "code",
        "colab": {}
      },
      "source": [
        "from tensorflow.keras.utils import to_categorical\n",
        "from tensorflow.keras.models import Sequential\n",
        "from tensorflow.keras.layers import Conv2D, MaxPool2D, Dense, Activation, Flatten\n",
        "from tensorflow.keras.optimizers import SGD #socastic gradient descent\n",
        "from tensorflow.keras.datasets import fashion_mnist"
      ],
      "execution_count": 0,
      "outputs": []
    },
    {
      "cell_type": "markdown",
      "metadata": {
        "id": "r0BqxB4qARnM",
        "colab_type": "text"
      },
      "source": [
        "# Load Data"
      ]
    },
    {
      "cell_type": "code",
      "metadata": {
        "id": "tm1i0Gh3_7ER",
        "colab_type": "code",
        "outputId": "6be923ab-cf26-4694-be07-76d85ceeb279",
        "colab": {
          "base_uri": "https://localhost:8080/",
          "height": 50
        }
      },
      "source": [
        "(X_train, y_train),(X_test, y_test)=fashion_mnist.load_data()\n",
        "print(\"x_train origional shape\",X_train.shape)\n",
        "print(\"y_train original shape\",y_train.shape)"
      ],
      "execution_count": 0,
      "outputs": [
        {
          "output_type": "stream",
          "text": [
            "x_train origional shape (60000, 28, 28)\n",
            "y_train original shape (60000,)\n"
          ],
          "name": "stdout"
        }
      ]
    },
    {
      "cell_type": "code",
      "metadata": {
        "id": "f_9ffWvyBAFU",
        "colab_type": "code",
        "outputId": "6fe52295-ebe7-4b53-bdfc-645e6a8c82c4",
        "colab": {
          "base_uri": "https://localhost:8080/",
          "height": 299
        }
      },
      "source": [
        "class_labels_dict={0: \"T-shirt/top\",1:\"Trouser\",2: \"Pullover\",3: \"Dress\",4: \"Coat\",\n",
        "                   5: \"Sandal\", 6: \"Shirt\", 7: \"Sneaker\",8: \"Bag\", 9: \"Ankle boot\"}\n",
        "fig=plt.figure(figsize=(10,4))\n",
        "for i in range (10):\n",
        "  plt.subplot(2,5,i+1)\n",
        "  img=X_train[y_train==i][0]\n",
        "  plt.imshow(img,cmap='gray',interpolation='none')\n",
        "  plt.title('Class: {}'.format(class_labels_dict[i]))\n",
        "  plt.axis('off')\n",
        "plt.tight_layout()"
      ],
      "execution_count": 0,
      "outputs": [
        {
          "output_type": "display_data",
          "data": {
            "image/png": "[encoded data removed]",
            "text/plain": [
              "<Figure size 720x288 with 10 Axes>"
            ]
          },
          "metadata": {
            "tags": [],
            "needs_background": "light"
          }
        }
      ]
    },
    {
      "cell_type": "markdown",
      "metadata": {
        "id": "3zPpTl-FDMw6",
        "colab_type": "text"
      },
      "source": [
        "# Format the data\n",
        "\n",
        "The input to our neural network have to be single vectors rather than 2D images. As a result, we will have to reshape the input so that each 28*28 image becomes a single 784 dimensional vector. Unfortunately, this leads to some loss of information, as it becomes less clear which image pixels ar next to each other."
      ]
    },
    {
      "cell_type": "code",
      "metadata": {
        "id": "f8Eu2fmtCxQr",
        "colab_type": "code",
        "outputId": "0fc7496b-e1dd-48f8-e8bb-319da5082857",
        "colab": {
          "base_uri": "https://localhost:8080/",
          "height": 50
        }
      },
      "source": [
        "X_train=X_train.reshape(X_train.shape[0],784)\n",
        "X_test=X_test.reshape(X_test.shape[0],784)\n",
        "X_train=X_train.astype('float32')\n",
        "X_test=X_test.astype('float32')\n",
        "\n",
        "print('Training matrix shape', X_train.shape)\n",
        "print(\"Testing matrix shape\", X_test.shape)"
      ],
      "execution_count": 0,
      "outputs": [
        {
          "output_type": "stream",
          "text": [
            "Training matrix shape (60000, 784)\n",
            "Testing matrix shape (10000, 784)\n"
          ],
          "name": "stdout"
        }
      ]
    },
    {
      "cell_type": "markdown",
      "metadata": {
        "id": "_98TsV9MEjKS",
        "colab_type": "text"
      },
      "source": [
        "we also normalise the inputs so that pixel values are in the [0-1] range rather than [0-255]."
      ]
    },
    {
      "cell_type": "code",
      "metadata": {
        "id": "oEPYd8fGEhEb",
        "colab_type": "code",
        "colab": {}
      },
      "source": [
        "X_train=X_train/255\n",
        "X_test=X_test/255"
      ],
      "execution_count": 0,
      "outputs": []
    },
    {
      "cell_type": "markdown",
      "metadata": {
        "id": "n4JMsOTZFezy",
        "colab_type": "text"
      },
      "source": [
        "Sience we have our traget value is in categorical so that we have to do one hot encoding"
      ]
    },
    {
      "cell_type": "code",
      "metadata": {
        "id": "MhrK1XBgE3Su",
        "colab_type": "code",
        "colab": {}
      },
      "source": [
        "# convert 1-d class arrays to 10-d class matrices using one hot encoding\n",
        "num_classes=10 # there are 10 possible classes (0,9)\n",
        "Y_train=to_categorical(y_train,num_classes)\n",
        "Y_test=to_categorical(y_test,num_classes)"
      ],
      "execution_count": 0,
      "outputs": []
    },
    {
      "cell_type": "code",
      "metadata": {
        "id": "leuY69wRGJG9",
        "colab_type": "code",
        "colab": {}
      },
      "source": [
        "model=Sequential()\n",
        "model.add(Dense(512, input_shape=(784,))) # add a dense input layer of 512\n",
        "model.add(Activation('relu'))\n",
        "model.add(Dense(512))\n",
        "model.add(Activation('relu'))\n",
        "model.add(Dense(num_classes))\n",
        "model.add(Activation('softmax'))"
      ],
      "execution_count": 0,
      "outputs": []
    },
    {
      "cell_type": "code",
      "metadata": {
        "id": "oUfNVdkMGLmN",
        "colab_type": "code",
        "outputId": "21f545be-2ea3-4572-8ef6-6693632235bb",
        "colab": {
          "base_uri": "https://localhost:8080/",
          "height": 353
        }
      },
      "source": [
        "model.summary()"
      ],
      "execution_count": 0,
      "outputs": [
        {
          "output_type": "stream",
          "text": [
            "Model: \"sequential\"\n",
            "_________________________________________________________________\n",
            "Layer (type)                 Output Shape              Param #   \n",
            "=================================================================\n",
            "dense (Dense)                (None, 512)               401920    \n",
            "_________________________________________________________________\n",
            "activation (Activation)      (None, 512)               0         \n",
            "_________________________________________________________________\n",
            "dense_1 (Dense)              (None, 512)               262656    \n",
            "_________________________________________________________________\n",
            "activation_1 (Activation)    (None, 512)               0         \n",
            "_________________________________________________________________\n",
            "dense_2 (Dense)              (None, 10)                5130      \n",
            "_________________________________________________________________\n",
            "activation_2 (Activation)    (None, 10)                0         \n",
            "=================================================================\n",
            "Total params: 669,706\n",
            "Trainable params: 669,706\n",
            "Non-trainable params: 0\n",
            "_________________________________________________________________\n"
          ],
          "name": "stdout"
        }
      ]
    },
    {
      "cell_type": "code",
      "metadata": {
        "id": "bzZF7aOCHGQT",
        "colab_type": "code",
        "colab": {}
      },
      "source": [
        "model.compile(loss='categorical_crossentropy',optimizer='adam', metrics=['accuracy'])"
      ],
      "execution_count": 0,
      "outputs": []
    },
    {
      "cell_type": "code",
      "metadata": {
        "id": "gOoNwa-bHk7a",
        "colab_type": "code",
        "outputId": "3fa0d867-266a-46d5-d761-758ba780a611",
        "colab": {
          "base_uri": "https://localhost:8080/",
          "height": 1000
        }
      },
      "source": [
        "from keras.callbacks import ModelCheckpoint\n",
        "filepath='mlp-weights.{epoch:02d}-{val_loss:2f}.hdf5'\n",
        "checkpoint=ModelCheckpoint(filepath,monitor='val_acc',verbose=1,save_best_only=True,mode='max')\n",
        "\n",
        "history=model.fit(X_train,Y_train,batch_size=128, epochs=30, verbose=2, validation_data=(X_test,Y_test))"
      ],
      "execution_count": 0,
      "outputs": [
        {
          "output_type": "stream",
          "text": [
            "Epoch 1/30\n"
          ],
          "name": "stdout"
        },
        {
          "output_type": "stream",
          "text": [
            "Using TensorFlow backend.\n"
          ],
          "name": "stderr"
        },
        {
          "output_type": "stream",
          "text": [
            "469/469 - 6s - loss: 0.4775 - accuracy: 0.8292 - val_loss: 0.4319 - val_accuracy: 0.8388\n",
            "Epoch 2/30\n",
            "469/469 - 6s - loss: 0.3470 - accuracy: 0.8725 - val_loss: 0.3756 - val_accuracy: 0.8606\n",
            "Epoch 3/30\n",
            "469/469 - 6s - loss: 0.3131 - accuracy: 0.8847 - val_loss: 0.3667 - val_accuracy: 0.8702\n",
            "Epoch 4/30\n",
            "469/469 - 6s - loss: 0.2878 - accuracy: 0.8929 - val_loss: 0.3409 - val_accuracy: 0.8794\n",
            "Epoch 5/30\n",
            "469/469 - 6s - loss: 0.2720 - accuracy: 0.8971 - val_loss: 0.3544 - val_accuracy: 0.8703\n",
            "Epoch 6/30\n",
            "469/469 - 6s - loss: 0.2583 - accuracy: 0.9032 - val_loss: 0.3263 - val_accuracy: 0.8829\n",
            "Epoch 7/30\n",
            "469/469 - 6s - loss: 0.2445 - accuracy: 0.9085 - val_loss: 0.3246 - val_accuracy: 0.8856\n",
            "Epoch 8/30\n",
            "469/469 - 6s - loss: 0.2310 - accuracy: 0.9115 - val_loss: 0.3126 - val_accuracy: 0.8904\n",
            "Epoch 9/30\n",
            "469/469 - 6s - loss: 0.2220 - accuracy: 0.9153 - val_loss: 0.3126 - val_accuracy: 0.8885\n",
            "Epoch 10/30\n",
            "469/469 - 6s - loss: 0.2105 - accuracy: 0.9200 - val_loss: 0.3185 - val_accuracy: 0.8860\n",
            "Epoch 11/30\n",
            "469/469 - 6s - loss: 0.2042 - accuracy: 0.9227 - val_loss: 0.3385 - val_accuracy: 0.8871\n",
            "Epoch 12/30\n",
            "469/469 - 6s - loss: 0.1950 - accuracy: 0.9248 - val_loss: 0.3457 - val_accuracy: 0.8829\n",
            "Epoch 13/30\n",
            "469/469 - 6s - loss: 0.1852 - accuracy: 0.9291 - val_loss: 0.3201 - val_accuracy: 0.8957\n",
            "Epoch 14/30\n",
            "469/469 - 6s - loss: 0.1764 - accuracy: 0.9333 - val_loss: 0.3171 - val_accuracy: 0.8934\n",
            "Epoch 15/30\n",
            "469/469 - 6s - loss: 0.1727 - accuracy: 0.9340 - val_loss: 0.3322 - val_accuracy: 0.8953\n",
            "Epoch 16/30\n",
            "469/469 - 6s - loss: 0.1610 - accuracy: 0.9378 - val_loss: 0.3441 - val_accuracy: 0.8959\n",
            "Epoch 17/30\n",
            "469/469 - 6s - loss: 0.1575 - accuracy: 0.9402 - val_loss: 0.3392 - val_accuracy: 0.8939\n",
            "Epoch 18/30\n",
            "469/469 - 6s - loss: 0.1494 - accuracy: 0.9415 - val_loss: 0.3488 - val_accuracy: 0.8949\n",
            "Epoch 19/30\n",
            "469/469 - 6s - loss: 0.1430 - accuracy: 0.9447 - val_loss: 0.3539 - val_accuracy: 0.8964\n",
            "Epoch 20/30\n",
            "469/469 - 6s - loss: 0.1365 - accuracy: 0.9465 - val_loss: 0.3666 - val_accuracy: 0.8970\n",
            "Epoch 21/30\n",
            "469/469 - 6s - loss: 0.1343 - accuracy: 0.9472 - val_loss: 0.3988 - val_accuracy: 0.8910\n",
            "Epoch 22/30\n",
            "469/469 - 6s - loss: 0.1262 - accuracy: 0.9513 - val_loss: 0.3648 - val_accuracy: 0.8989\n",
            "Epoch 23/30\n",
            "469/469 - 6s - loss: 0.1243 - accuracy: 0.9526 - val_loss: 0.4100 - val_accuracy: 0.8848\n",
            "Epoch 24/30\n",
            "469/469 - 6s - loss: 0.1171 - accuracy: 0.9547 - val_loss: 0.3905 - val_accuracy: 0.8973\n",
            "Epoch 25/30\n",
            "469/469 - 6s - loss: 0.1108 - accuracy: 0.9564 - val_loss: 0.4080 - val_accuracy: 0.8982\n",
            "Epoch 26/30\n",
            "469/469 - 6s - loss: 0.1091 - accuracy: 0.9582 - val_loss: 0.4303 - val_accuracy: 0.8926\n",
            "Epoch 27/30\n",
            "469/469 - 6s - loss: 0.1038 - accuracy: 0.9591 - val_loss: 0.4281 - val_accuracy: 0.8955\n",
            "Epoch 28/30\n",
            "469/469 - 6s - loss: 0.1026 - accuracy: 0.9597 - val_loss: 0.4273 - val_accuracy: 0.8965\n",
            "Epoch 29/30\n",
            "469/469 - 6s - loss: 0.0969 - accuracy: 0.9617 - val_loss: 0.4280 - val_accuracy: 0.9005\n",
            "Epoch 30/30\n",
            "469/469 - 6s - loss: 0.0901 - accuracy: 0.9647 - val_loss: 0.4266 - val_accuracy: 0.8988\n"
          ],
          "name": "stdout"
        }
      ]
    },
    {
      "cell_type": "code",
      "metadata": {
        "id": "GwB2iUz-IpC_",
        "colab_type": "code",
        "outputId": "97ab9d2d-b0c3-4c0a-de7f-0c7ee5d088d9",
        "colab": {
          "base_uri": "https://localhost:8080/",
          "height": 128
        }
      },
      "source": [
        "plt.plot(range(1,1+len(history.history['accuracy'])),(history.history['accuracy'])\n",
        "plt.plot(range(1,1+len(history.history['val_accuracy'])),(history.history['val_accuracy'])\n",
        "plt.title('model Accuracy vs number of Epochs')\n",
        "plt.ylabel('accuracy')\n",
        "plt.xlabel('epoch number')\n",
        "plt.legend(['train','test'],loc='best')\n",
        "plt.xticks(np.arrange(0,28,2))\n",
        "plt.show()"
      ],
      "execution_count": 0,
      "outputs": [
        {
          "output_type": "error",
          "ename": "SyntaxError",
          "evalue": "ignored",
          "traceback": [
            "\u001b[0;36m  File \u001b[0;32m\"<ipython-input-15-b1a425492373>\"\u001b[0;36m, line \u001b[0;32m2\u001b[0m\n\u001b[0;31m    plt.plot(range(1,1+len(history.history['val_accuracy'])),(history.history['val_accuracy'])\u001b[0m\n\u001b[0m      ^\u001b[0m\n\u001b[0;31mSyntaxError\u001b[0m\u001b[0;31m:\u001b[0m invalid syntax\n"
          ]
        }
      ]
    },
    {
      "cell_type": "code",
      "metadata": {
        "id": "_EaGDBmeK0XN",
        "colab_type": "code",
        "outputId": "3cb9e3ce-0822-4734-832b-6f65e9d530ff",
        "colab": {
          "base_uri": "https://localhost:8080/",
          "height": 34
        }
      },
      "source": [
        "best_score=max(history.history['val_accuracy'])\n",
        "best_epoch=np.array(history.history['val_accuracy']).argmax()+1\n",
        "print(\"best test accuracy was %f at epoch %i\" %(best_score,best_epoch))"
      ],
      "execution_count": 0,
      "outputs": [
        {
          "output_type": "stream",
          "text": [
            "best test accuracy was 0.900500 at epoch 29\n"
          ],
          "name": "stdout"
        }
      ]
    },
    {
      "cell_type": "markdown",
      "metadata": {
        "id": "wjZWdUuzNFJC",
        "colab_type": "text"
      },
      "source": [
        "# Inspecting the output"
      ]
    },
    {
      "cell_type": "code",
      "metadata": {
        "id": "sNCfeSDyMitW",
        "colab_type": "code",
        "outputId": "dbddf47f-bbba-4eb4-a6d8-f5b08343eef6",
        "colab": {
          "base_uri": "https://localhost:8080/",
          "height": 87
        }
      },
      "source": [
        "y_pred=model.predict_classes(X_test)\n",
        "# check which item we get right/ wrong\n",
        "correct_indices=np.nonzero(y_pred==y_test)[0]\n",
        "incorrect_indices=np.nonzero(y_pred !=y_test)[0]"
      ],
      "execution_count": 0,
      "outputs": [
        {
          "output_type": "stream",
          "text": [
            "WARNING:tensorflow:From <ipython-input-17-2fe46b6018e7>:1: Sequential.predict_classes (from tensorflow.python.keras.engine.sequential) is deprecated and will be removed after 2021-01-01.\n",
            "Instructions for updating:\n",
            "Please use instead:* `np.argmax(model.predict(x), axis=-1)`,   if your model does multi-class classification   (e.g. if it uses a `softmax` last-layer activation).* `(model.predict(x) > 0.5).astype(\"int32\")`,   if your model does binary classification   (e.g. if it uses a `sigmoid` last-layer activation).\n"
          ],
          "name": "stdout"
        }
      ]
    },
    {
      "cell_type": "code",
      "metadata": {
        "id": "d0YnyypgNONZ",
        "colab_type": "code",
        "outputId": "f7a6bf39-301a-4e9b-ae15-22a3c2fc7f49",
        "colab": {
          "base_uri": "https://localhost:8080/",
          "height": 585
        }
      },
      "source": [
        "plt.figure(figsize=(8,8))\n",
        "for i, correct in enumerate(correct_indices[:9]):\n",
        "  plt.subplot(3,3,i+1)\n",
        "  plt.imshow(X_test[correct].reshape(28,28), cmap='gray',interpolation='none')\n",
        "  plt.title(\"predicted: {}\\n Acutal:\".format(class_labels_dict[y_pred[correct]],class_labels_dict[y_test[correct]]))\n",
        "plt.tight_layout()"
      ],
      "execution_count": 0,
      "outputs": [
        {
          "output_type": "display_data",
          "data": {
            "image/png": "[encoded data removed]",
            "text/plain": [
              "<Figure size 576x576 with 9 Axes>"
            ]
          },
          "metadata": {
            "tags": [],
            "needs_background": "light"
          }
        }
      ]
    },
    {
      "cell_type": "code",
      "metadata": {
        "id": "YMkoagWtOoE3",
        "colab_type": "code",
        "outputId": "0bd97832-98c9-48e3-d5f1-bab0793f8f5f",
        "colab": {
          "base_uri": "https://localhost:8080/",
          "height": 585
        }
      },
      "source": [
        "plt.figure(figsize=(8,8))\n",
        "for i, incorrect in enumerate(incorrect_indices[:9]):\n",
        "  plt.subplot(3,3,i+1)\n",
        "  plt.imshow(X_test[incorrect].reshape(28,28), cmap='gray',interpolation='none')\n",
        "  plt.title(\"predicted: {}\\n Acutal:\".format(class_labels_dict[y_pred[incorrect]],class_labels_dict[y_test[incorrect]]))\n",
        "plt.tight_layout()"
      ],
      "execution_count": 0,
      "outputs": [
        {
          "output_type": "display_data",
          "data": {
            "image/png": "[encoded data removed]",
            "text/plain": [
              "<Figure size 576x576 with 9 Axes>"
            ]
          },
          "metadata": {
            "tags": [],
            "needs_background": "light"
          }
        }
      ]
    },
    {
      "cell_type": "code",
      "metadata": {
        "id": "Q3yrFFNZPHKN",
        "colab_type": "code",
        "outputId": "b16d89b9-502b-4af9-f600-548bd47e039e",
        "colab": {
          "base_uri": "https://localhost:8080/",
          "height": 302
        }
      },
      "source": [
        "from sklearn.metrics import classification_report, confusion_matrix\n",
        "target_names=[class_labels_dict[x] for x in range (10)]\n",
        "print(classification_report(y_test,y_pred, target_names=target_names))"
      ],
      "execution_count": 0,
      "outputs": [
        {
          "output_type": "stream",
          "text": [
            "              precision    recall  f1-score   support\n",
            "\n",
            " T-shirt/top       0.84      0.85      0.85      1000\n",
            "     Trouser       0.99      0.98      0.99      1000\n",
            "    Pullover       0.84      0.80      0.82      1000\n",
            "       Dress       0.91      0.90      0.91      1000\n",
            "        Coat       0.80      0.86      0.83      1000\n",
            "      Sandal       0.99      0.96      0.97      1000\n",
            "       Shirt       0.74      0.71      0.73      1000\n",
            "     Sneaker       0.94      0.98      0.96      1000\n",
            "         Bag       0.98      0.98      0.98      1000\n",
            "  Ankle boot       0.96      0.96      0.96      1000\n",
            "\n",
            "    accuracy                           0.90     10000\n",
            "   macro avg       0.90      0.90      0.90     10000\n",
            "weighted avg       0.90      0.90      0.90     10000\n",
            "\n"
          ],
          "name": "stdout"
        }
      ]
    },
    {
      "cell_type": "code",
      "metadata": {
        "id": "erC1rpPoQTV9",
        "colab_type": "code",
        "colab": {}
      },
      "source": [
        ""
      ],
      "execution_count": 0,
      "outputs": []
    }
  ]
}